{
 "cells": [
  {
   "attachments": {},
   "cell_type": "markdown",
   "metadata": {},
   "source": [
    "Задание 1"
   ]
  },
  {
   "attachments": {},
   "cell_type": "markdown",
   "metadata": {},
   "source": [
    "Функция для чтение текста ( надо более 500 символов)"
   ]
  },
  {
   "attachments": {},
   "cell_type": "markdown",
   "metadata": {},
   "source": [
    "def read_file(file_name: str) -> str:\n",
    "    \"\"\"функция чтения  текста из файла\"\"\"   \n",
    "    text = \"\"     \n",
    "    with open(file_name, encoding='utf-8') as file:\n",
    "         for item in file:\n",
    "             text += item\n",
    "    return text"
   ]
  }
 ],
 "metadata": {
  "kernelspec": {
   "display_name": "Python 3",
   "language": "python",
   "name": "python3"
  },
  "language_info": {
   "name": "python",
   "version": "3.9.7 (tags/v3.9.7:1016ef3, Aug 30 2021, 20:19:38) [MSC v.1929 64 bit (AMD64)]"
  },
  "orig_nbformat": 4,
  "vscode": {
   "interpreter": {
    "hash": "ec805d7956e634e8042100239b8609091a9c19982996462007fe4be10d7c0404"
   }
  }
 },
 "nbformat": 4,
 "nbformat_minor": 2
}
