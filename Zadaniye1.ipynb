{
 "cells": [
  {
   "attachments": {},
   "cell_type": "markdown",
   "metadata": {},
   "source": [
    "Задание 1"
   ]
  },
  {
   "attachments": {},
   "cell_type": "markdown",
   "metadata": {},
   "source": [
    "Функция для чтение текста ( надо более 500 символов)"
   ]
  },
  {
   "cell_type": "code",
   "execution_count": 1,
   "metadata": {},
   "outputs": [],
   "source": [
    "def read_file(file_name: str) -> str:\n",
    "    \"\"\"функция чтения текста из файла\"\"\"   \n",
    "    text = \"\"     \n",
    "    with open(file_name, encoding='utf-8') as file:\n",
    "         for item in file:\n",
    "             text += item\n",
    "    return text"
   ]
  },
  {
   "attachments": {},
   "cell_type": "markdown",
   "metadata": {},
   "source": [
    "Функция для создания алфавита"
   ]
  },
  {
   "cell_type": "code",
   "execution_count": 2,
   "metadata": {},
   "outputs": [],
   "source": [
    "def prepare_alph() -> str:\n",
    "    \"\"\"создание алфавита\"\"\"\n",
    "    alf=\"\"\n",
    "    for i in range(ord(\"а\"),ord(\"е\")+1):\n",
    "        alf=alf + chr(i)\n",
    "        \n",
    "    alf = alf + chr(ord(\"ё\"))\n",
    "    for i in range(ord(\"ж\"),ord(\"я\")+1):\n",
    "        alf=alf + chr(i)\n",
    "    return alf"
   ]
  }
 ],
 "metadata": {
  "kernelspec": {
   "display_name": "Python 3",
   "language": "python",
   "name": "python3"
  },
  "language_info": {
   "codemirror_mode": {
    "name": "ipython",
    "version": 3
   },
   "file_extension": ".py",
   "mimetype": "text/x-python",
   "name": "python",
   "nbconvert_exporter": "python",
   "pygments_lexer": "ipython3",
   "version": "3.9.7"
  },
  "orig_nbformat": 4,
  "vscode": {
   "interpreter": {
    "hash": "ec805d7956e634e8042100239b8609091a9c19982996462007fe4be10d7c0404"
   }
  }
 },
 "nbformat": 4,
 "nbformat_minor": 2
}
