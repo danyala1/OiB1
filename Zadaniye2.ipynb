{
 "cells": [
  {
   "attachments": {},
   "cell_type": "markdown",
   "metadata": {},
   "source": [
    "Функция для зашифрованного текста"
   ]
  },
  {
   "cell_type": "code",
   "execution_count": null,
   "metadata": {},
   "outputs": [],
   "source": [
    "def read_file(file_name: str) -> str:\n",
    "    \"\"\"функция чтения исходного текста из файла\"\"\"   \n",
    "    text = \"\"     \n",
    "    with open(file_name, encoding='utf-8') as file:\n",
    "          text = file.read()\n",
    "          \n",
    "    \n",
    "    return text"
   ]
  },
  {
   "attachments": {},
   "cell_type": "markdown",
   "metadata": {},
   "source": [
    "Чтение частот"
   ]
  },
  {
   "cell_type": "code",
   "execution_count": null,
   "metadata": {},
   "outputs": [],
   "source": [
    "def read_frequency_file(file_name: str) -> dict:\n",
    "    \"\"\"функция чтения частотного текста из файла\"\"\" \n",
    "    frequency_dict = {}\n",
    "    with open(file_name) as file:\n",
    "        for item in file:\n",
    "            tmp_str = item.split(\"=\")\n",
    "            key = tmp_str[0][0]\n",
    "            value = round(float(tmp_str[1][1:9]), 6)\n",
    "            frequency_dict.update({key:value})\n",
    "    return(frequency_dict)"
   ]
  }
 ],
 "metadata": {
  "kernelspec": {
   "display_name": "Python 3",
   "language": "python",
   "name": "python3"
  },
  "language_info": {
   "name": "python",
   "version": "3.9.7"
  },
  "orig_nbformat": 4
 },
 "nbformat": 4,
 "nbformat_minor": 2
}
