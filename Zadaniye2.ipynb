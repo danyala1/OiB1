{
 "cells": [
  {
   "attachments": {},
   "cell_type": "markdown",
   "metadata": {},
   "source": [
    "Функция для зашифрованного текста"
   ]
  },
  {
   "cell_type": "code",
   "execution_count": 8,
   "metadata": {},
   "outputs": [],
   "source": [
    "def read_file(file_name: str) -> str:\n",
    "    \"\"\"функция чтения исходного текста из файла\"\"\"   \n",
    "    text = \"\"     \n",
    "    with open(file_name, encoding='utf-8') as file:\n",
    "          text = file.read()\n",
    "          \n",
    "    \n",
    "    return text"
   ]
  },
  {
   "attachments": {},
   "cell_type": "markdown",
   "metadata": {},
   "source": [
    "Чтение частот"
   ]
  },
  {
   "cell_type": "code",
   "execution_count": 9,
   "metadata": {},
   "outputs": [],
   "source": [
    "def read_frequency_file(file_name: str) -> dict:\n",
    "    \"\"\"функция чтения частотного текста из файла\"\"\" \n",
    "    frequency_dict = {}\n",
    "    with open(file_name) as file:\n",
    "        for item in file:\n",
    "            tmp_str = item.split(\"=\")\n",
    "            key = tmp_str[0][0]\n",
    "            value = round(float(tmp_str[1][1:9]), 6)\n",
    "            frequency_dict.update({key:value})\n",
    "    return(frequency_dict)"
   ]
  },
  {
   "attachments": {},
   "cell_type": "markdown",
   "metadata": {},
   "source": [
    "Щас будем сравнивать с помощью функций"
   ]
  },
  {
   "cell_type": "code",
   "execution_count": 10,
   "metadata": {},
   "outputs": [],
   "source": [
    "frequency_dict = read_frequency_file(\"frequency.txt\" )"
   ]
  },
  {
   "cell_type": "code",
   "execution_count": 11,
   "metadata": {},
   "outputs": [],
   "source": [
    "text = read_file('text2.txt')  "
   ]
  },
  {
   "attachments": {},
   "cell_type": "markdown",
   "metadata": {},
   "source": [
    "Создание частотного словаря"
   ]
  },
  {
   "cell_type": "code",
   "execution_count": 12,
   "metadata": {},
   "outputs": [],
   "source": [
    "def frequency_new_text(text: str) -> dict:\n",
    "    \"\"\"функция создания частотного словаря\"\"\"\n",
    "    frequency_new_dict ={}\n",
    "    len_text = len(text)\n",
    "    for i in text:\n",
    "        count = 0.00000\n",
    "        if i not in frequency_new_dict.keys():\n",
    "            for j in range (len_text):                \n",
    "                if i == text[j]:\n",
    "                    count+=1\n",
    "            frequency_new_dict.update({i: round(float(count/len_text), 6)})\n",
    "\n",
    "\n",
    "    return frequency_new_dict        "
   ]
  },
  {
   "cell_type": "code",
   "execution_count": 13,
   "metadata": {},
   "outputs": [],
   "source": [
    "frequency_new_dict = frequency_new_text(text)"
   ]
  },
  {
   "attachments": {},
   "cell_type": "markdown",
   "metadata": {},
   "source": [
    "Ща будем выводить 2 колонки с буквами, чтобы было удобнее все подбирать"
   ]
  },
  {
   "cell_type": "code",
   "execution_count": null,
   "metadata": {},
   "outputs": [],
   "source": [
    "frequency_new_dict = dict(sorted(frequency_new_dict.items(), key=lambda item: item[1], reverse=True))\n",
    "frequency_dict = dict(sorted(frequency_dict.items(), key=lambda item: item[1], reverse=True))\n",
    "frequency_dict = tuple(frequency_dict.items())\n",
    "frequency_new_dict = tuple(frequency_new_dict.items())\n",
    "for i in range (32):\n",
    "    print(i, ' ', frequency_new_dict[i], '\\t', frequency_dict[i])"
   ]
  }
 ],
 "metadata": {
  "kernelspec": {
   "display_name": "Python 3",
   "language": "python",
   "name": "python3"
  },
  "language_info": {
   "codemirror_mode": {
    "name": "ipython",
    "version": 3
   },
   "file_extension": ".py",
   "mimetype": "text/x-python",
   "name": "python",
   "nbconvert_exporter": "python",
   "pygments_lexer": "ipython3",
   "version": "3.9.7"
  },
  "orig_nbformat": 4
 },
 "nbformat": 4,
 "nbformat_minor": 2
}
